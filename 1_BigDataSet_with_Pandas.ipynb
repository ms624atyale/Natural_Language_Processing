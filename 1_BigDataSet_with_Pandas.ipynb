{
  "nbformat": 4,
  "nbformat_minor": 0,
  "metadata": {
    "colab": {
      "provenance": [],
      "authorship_tag": "ABX9TyOx9p2Xol/7scyZY5cP3hOX",
      "include_colab_link": true
    },
    "kernelspec": {
      "name": "python3",
      "display_name": "Python 3"
    },
    "language_info": {
      "name": "python"
    }
  },
  "cells": [
    {
      "cell_type": "markdown",
      "metadata": {
        "id": "view-in-github",
        "colab_type": "text"
      },
      "source": [
        "<a href=\"https://colab.research.google.com/github/ms624atyale/Natural_Language_Processing/blob/main/1_BigDataSet_with_Pandas.ipynb\" target=\"_parent\"><img src=\"https://colab.research.google.com/assets/colab-badge.svg\" alt=\"Open In Colab\"/></a>"
      ]
    },
    {
      "cell_type": "markdown",
      "source": [
        "### <font color = 'red'> 🐹🔧🔨 **Introduction to Natural Language Processing** </font>\n",
        "\n",
        "[1970~2016 UN Gerneral Database 유엔총회일반토의]\n",
        "\n",
        "* [Harvard Database](https://dataverse.harvard.edu/dataset.xhtml?persistentId=doi:10.7910/DVN/0TJX8Y)\n",
        "* [Github Database](https://github.com/blueprints-for-text-analytics-python/blueprints-text/blob/master/data/un-general-debates/un-general-debates-blueprint.csv.gz)\n",
        "* [Basic codelines and result files for analysis](https://oreil.ly/btap-code)\n"
      ],
      "metadata": {
        "id": "jq_JEbRHYTfB"
      }
    },
    {
      "cell_type": "code",
      "execution_count": null,
      "metadata": {
        "id": "2MweCTymYRhr"
      },
      "outputs": [],
      "source": []
    }
  ]
}