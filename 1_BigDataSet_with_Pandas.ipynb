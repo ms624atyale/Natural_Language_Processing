{
  "nbformat": 4,
  "nbformat_minor": 0,
  "metadata": {
    "colab": {
      "provenance": [],
      "authorship_tag": "ABX9TyPFI3I8gj8MnN10gzZN9nKP",
      "include_colab_link": true
    },
    "kernelspec": {
      "name": "python3",
      "display_name": "Python 3"
    },
    "language_info": {
      "name": "python"
    }
  },
  "cells": [
    {
      "cell_type": "markdown",
      "metadata": {
        "id": "view-in-github",
        "colab_type": "text"
      },
      "source": [
        "<a href=\"https://colab.research.google.com/github/ms624atyale/Natural_Language_Processing/blob/main/1_BigDataSet_with_Pandas.ipynb\" target=\"_parent\"><img src=\"https://colab.research.google.com/assets/colab-badge.svg\" alt=\"Open In Colab\"/></a>"
      ]
    },
    {
      "cell_type": "markdown",
      "source": [
        "### <font color = 'red'> 🐹🔧🔨 **Introduction to Natural Language Processing** </font>\n",
        "\n",
        "[1970~2016 UN Gerneral Database 유엔총회일반토의]\n",
        "\n",
        "* [Harvard Database](https://dataverse.harvard.edu/dataset.xhtml?persistentId=doi:10.7910/DVN/0TJX8Y)\n",
        "* [Github Database](https://github.com/blueprints-for-text-analytics-python/blueprints-text/blob/master/data/un-general-debates/un-general-debates-blueprint.csv.gz)\n",
        "* [Basic codelines and result files for analysis](https://oreil.ly/btap-code)\n"
      ],
      "metadata": {
        "id": "jq_JEbRHYTfB"
      }
    },
    {
      "cell_type": "code",
      "execution_count": 5,
      "metadata": {
        "id": "2MweCTymYRhr",
        "outputId": "86ce037c-0e1b-4beb-d256-36342fb30aeb",
        "colab": {
          "base_uri": "https://localhost:8080/",
          "height": 191
        }
      },
      "outputs": [
        {
          "output_type": "execute_result",
          "data": {
            "text/plain": [
              "      session  year country                       country_name  \\\n",
              "66         25  1970     VEN  Venezuela, Bolivarian Republic of   \n",
              "2129       41  1986     AUT                            Austria   \n",
              "\n",
              "              speaker position  \\\n",
              "66        Mr. CALVANI      NaN   \n",
              "2129  Mr. Jankowitsch      NaN   \n",
              "\n",
              "                                                   text  \n",
              "66    \\n\\n\\n\\n\\n Mr. President, on behalf of my Gove...  \n",
              "2129  When the General Assembly adjourned last year,...  "
            ],
            "text/html": [
              "\n",
              "  <div id=\"df-af3c6ac5-59ab-47ce-8941-de9442795b03\">\n",
              "    <div class=\"colab-df-container\">\n",
              "      <div>\n",
              "<style scoped>\n",
              "    .dataframe tbody tr th:only-of-type {\n",
              "        vertical-align: middle;\n",
              "    }\n",
              "\n",
              "    .dataframe tbody tr th {\n",
              "        vertical-align: top;\n",
              "    }\n",
              "\n",
              "    .dataframe thead th {\n",
              "        text-align: right;\n",
              "    }\n",
              "</style>\n",
              "<table border=\"1\" class=\"dataframe\">\n",
              "  <thead>\n",
              "    <tr style=\"text-align: right;\">\n",
              "      <th></th>\n",
              "      <th>session</th>\n",
              "      <th>year</th>\n",
              "      <th>country</th>\n",
              "      <th>country_name</th>\n",
              "      <th>speaker</th>\n",
              "      <th>position</th>\n",
              "      <th>text</th>\n",
              "    </tr>\n",
              "  </thead>\n",
              "  <tbody>\n",
              "    <tr>\n",
              "      <th>66</th>\n",
              "      <td>25</td>\n",
              "      <td>1970</td>\n",
              "      <td>VEN</td>\n",
              "      <td>Venezuela, Bolivarian Republic of</td>\n",
              "      <td>Mr. CALVANI</td>\n",
              "      <td>NaN</td>\n",
              "      <td>\\n\\n\\n\\n\\n Mr. President, on behalf of my Gove...</td>\n",
              "    </tr>\n",
              "    <tr>\n",
              "      <th>2129</th>\n",
              "      <td>41</td>\n",
              "      <td>1986</td>\n",
              "      <td>AUT</td>\n",
              "      <td>Austria</td>\n",
              "      <td>Mr. Jankowitsch</td>\n",
              "      <td>NaN</td>\n",
              "      <td>When the General Assembly adjourned last year,...</td>\n",
              "    </tr>\n",
              "  </tbody>\n",
              "</table>\n",
              "</div>\n",
              "      <button class=\"colab-df-convert\" onclick=\"convertToInteractive('df-af3c6ac5-59ab-47ce-8941-de9442795b03')\"\n",
              "              title=\"Convert this dataframe to an interactive table.\"\n",
              "              style=\"display:none;\">\n",
              "        \n",
              "  <svg xmlns=\"http://www.w3.org/2000/svg\" height=\"24px\"viewBox=\"0 0 24 24\"\n",
              "       width=\"24px\">\n",
              "    <path d=\"M0 0h24v24H0V0z\" fill=\"none\"/>\n",
              "    <path d=\"M18.56 5.44l.94 2.06.94-2.06 2.06-.94-2.06-.94-.94-2.06-.94 2.06-2.06.94zm-11 1L8.5 8.5l.94-2.06 2.06-.94-2.06-.94L8.5 2.5l-.94 2.06-2.06.94zm10 10l.94 2.06.94-2.06 2.06-.94-2.06-.94-.94-2.06-.94 2.06-2.06.94z\"/><path d=\"M17.41 7.96l-1.37-1.37c-.4-.4-.92-.59-1.43-.59-.52 0-1.04.2-1.43.59L10.3 9.45l-7.72 7.72c-.78.78-.78 2.05 0 2.83L4 21.41c.39.39.9.59 1.41.59.51 0 1.02-.2 1.41-.59l7.78-7.78 2.81-2.81c.8-.78.8-2.07 0-2.86zM5.41 20L4 18.59l7.72-7.72 1.47 1.35L5.41 20z\"/>\n",
              "  </svg>\n",
              "      </button>\n",
              "      \n",
              "  <style>\n",
              "    .colab-df-container {\n",
              "      display:flex;\n",
              "      flex-wrap:wrap;\n",
              "      gap: 12px;\n",
              "    }\n",
              "\n",
              "    .colab-df-convert {\n",
              "      background-color: #E8F0FE;\n",
              "      border: none;\n",
              "      border-radius: 50%;\n",
              "      cursor: pointer;\n",
              "      display: none;\n",
              "      fill: #1967D2;\n",
              "      height: 32px;\n",
              "      padding: 0 0 0 0;\n",
              "      width: 32px;\n",
              "    }\n",
              "\n",
              "    .colab-df-convert:hover {\n",
              "      background-color: #E2EBFA;\n",
              "      box-shadow: 0px 1px 2px rgba(60, 64, 67, 0.3), 0px 1px 3px 1px rgba(60, 64, 67, 0.15);\n",
              "      fill: #174EA6;\n",
              "    }\n",
              "\n",
              "    [theme=dark] .colab-df-convert {\n",
              "      background-color: #3B4455;\n",
              "      fill: #D2E3FC;\n",
              "    }\n",
              "\n",
              "    [theme=dark] .colab-df-convert:hover {\n",
              "      background-color: #434B5C;\n",
              "      box-shadow: 0px 1px 3px 1px rgba(0, 0, 0, 0.15);\n",
              "      filter: drop-shadow(0px 1px 2px rgba(0, 0, 0, 0.3));\n",
              "      fill: #FFFFFF;\n",
              "    }\n",
              "  </style>\n",
              "\n",
              "      <script>\n",
              "        const buttonEl =\n",
              "          document.querySelector('#df-af3c6ac5-59ab-47ce-8941-de9442795b03 button.colab-df-convert');\n",
              "        buttonEl.style.display =\n",
              "          google.colab.kernel.accessAllowed ? 'block' : 'none';\n",
              "\n",
              "        async function convertToInteractive(key) {\n",
              "          const element = document.querySelector('#df-af3c6ac5-59ab-47ce-8941-de9442795b03');\n",
              "          const dataTable =\n",
              "            await google.colab.kernel.invokeFunction('convertToInteractive',\n",
              "                                                     [key], {});\n",
              "          if (!dataTable) return;\n",
              "\n",
              "          const docLinkHtml = 'Like what you see? Visit the ' +\n",
              "            '<a target=\"_blank\" href=https://colab.research.google.com/notebooks/data_table.ipynb>data table notebook</a>'\n",
              "            + ' to learn more about interactive tables.';\n",
              "          element.innerHTML = '';\n",
              "          dataTable['output_type'] = 'display_data';\n",
              "          await google.colab.output.renderOutput(dataTable, element);\n",
              "          const docLink = document.createElement('div');\n",
              "          docLink.innerHTML = docLinkHtml;\n",
              "          element.appendChild(docLink);\n",
              "        }\n",
              "      </script>\n",
              "    </div>\n",
              "  </div>\n",
              "  "
            ]
          },
          "metadata": {},
          "execution_count": 5
        }
      ],
      "source": [
        "import pandas as pd\n",
        "file = \"/content/sample_data/un-general-debates-blueprint.csv\"\n",
        "df = pd.read_csv(file)\n",
        "df.sample(2)\n",
        "#df = pd.sample(frac = 0.1)"
      ]
    },
    {
      "cell_type": "markdown",
      "source": [
        "###🐹 대규모 데이터 탐색 대신 개수가 적은 **데이터 샘플 사용**\n",
        "* 장점: 시각화와 필요한 특성을 빠르게 개발 가능. 분석이 준비 되었을 때 큰 데이터셋에서 모든 것을 다시 실행.\n",
        "* 아래 코드라인은 전체 레코드의 10% 를 임의로 추출해 기존 데이터 프레임을 교체하는데 사용"
      ],
      "metadata": {
        "id": "hScVBT1qfU0J"
      }
    },
    {
      "cell_type": "code",
      "source": [
        "import pandas as pd\n",
        "file = \"/content/sample_data/un-general-debates-blueprint.csv\"\n",
        "df = pd.read_csv(file)\n",
        "df = df.sample(frac = 0.1)"
      ],
      "metadata": {
        "id": "aZ5mdcXGfANV"
      },
      "execution_count": 6,
      "outputs": []
    }
  ]
}